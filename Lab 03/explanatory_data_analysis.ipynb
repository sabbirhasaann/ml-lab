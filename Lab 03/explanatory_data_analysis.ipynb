{
 "cells": [
  {
   "metadata": {},
   "cell_type": "markdown",
   "source": "#### Import The Libraries",
   "id": "b5a5fd1ba69cf165"
  },
  {
   "cell_type": "code",
   "id": "initial_id",
   "metadata": {
    "collapsed": true,
    "ExecuteTime": {
     "end_time": "2025-10-15T05:13:07.450767Z",
     "start_time": "2025-10-15T05:13:07.446857Z"
    }
   },
   "source": [
    "import seaborn as sns\n",
    "import pandas as pd\n",
    "import matplotlib.pyplot as plt\n",
    "\n",
    "# Set a style for the plots\n",
    "sns.set_theme(style=\"whitegrid\")"
   ],
   "outputs": [],
   "execution_count": 3
  },
  {
   "metadata": {},
   "cell_type": "markdown",
   "source": "#### Import The Dataset",
   "id": "c9861e29049204ca"
  },
  {
   "metadata": {
    "ExecuteTime": {
     "end_time": "2025-10-15T05:14:46.856386Z",
     "start_time": "2025-10-15T05:14:45.810099Z"
    }
   },
   "cell_type": "code",
   "source": [
    "# Load the Bangladeshi_Student_Database\n",
    "df = pd.read_excel('Bangladeshi_Student_Database.xlsx')\n",
    "print(\"Dataset loaded successfully.\")"
   ],
   "id": "a2b6ed3e6eea811",
   "outputs": [
    {
     "name": "stdout",
     "output_type": "stream",
     "text": [
      "Dataset loaded successfully.\n"
     ]
    }
   ],
   "execution_count": 5
  },
  {
   "metadata": {},
   "cell_type": "markdown",
   "source": "#### Display Dataset Information",
   "id": "e8f43b5bc74982dd"
  },
  {
   "metadata": {
    "ExecuteTime": {
     "end_time": "2025-10-15T05:14:55.047859Z",
     "start_time": "2025-10-15T05:14:54.492762Z"
    }
   },
   "cell_type": "code",
   "source": [
    "## Display basic information (Data types, Non-null counts)\n",
    "print(\"--- Dataset Info ---\")\n",
    "df.info()\n",
    "\n",
    "print(\"\\n--- Summary Statistics (Mean, Std Dev, Min/Max) ---\")\n",
    "# Only includes numerical columns\n",
    "print(df.describe())"
   ],
   "id": "bd02f351142b4375",
   "outputs": [
    {
     "name": "stdout",
     "output_type": "stream",
     "text": [
      "--- Dataset Info ---\n",
      "<class 'pandas.core.frame.DataFrame'>\n",
      "RangeIndex: 500 entries, 0 to 499\n",
      "Data columns (total 4 columns):\n",
      " #   Column      Non-Null Count  Dtype  \n",
      "---  ------      --------------  -----  \n",
      " 0   Name        500 non-null    object \n",
      " 1   Age         425 non-null    float64\n",
      " 2   Exam Marks  400 non-null    float64\n",
      " 3   Gender      450 non-null    object \n",
      "dtypes: float64(2), object(2)\n",
      "memory usage: 15.8+ KB\n",
      "\n",
      "--- Summary Statistics (Mean, Std Dev, Min/Max) ---\n",
      "              Age  Exam Marks\n",
      "count  425.000000  400.000000\n",
      "mean    19.992941   50.207500\n",
      "std      1.358914   29.642641\n",
      "min     18.000000    0.000000\n",
      "25%     19.000000   23.000000\n",
      "50%     20.000000   50.000000\n",
      "75%     21.000000   75.250000\n",
      "max     22.000000  100.000000\n"
     ]
    }
   ],
   "execution_count": 6
  },
  {
   "metadata": {},
   "cell_type": "markdown",
   "source": "#### Distribution Plot",
   "id": "bebee0cbfccca426"
  },
  {
   "metadata": {
    "ExecuteTime": {
     "end_time": "2025-10-15T05:15:04.613870Z",
     "start_time": "2025-10-15T05:15:03.497017Z"
    }
   },
   "cell_type": "code",
   "source": [
    "# 2. Distribution plot of one feature\n",
    "plt.figure(figsize=(8, 5))\n",
    "sns.histplot(df['sepal_length'], kde=True, color='skyblue', bins=15)\n",
    "plt.title(\"Distribution of Sepal Length\", fontsize=14)\n",
    "plt.xlabel(\"Sepal Length (cm)\")\n",
    "plt.ylabel(\"Frequency\")\n",
    "plt.show()"
   ],
   "id": "8b244ea44aa65bcb",
   "outputs": [
    {
     "ename": "KeyError",
     "evalue": "'sepal_length'",
     "output_type": "error",
     "traceback": [
      "\u001B[31m---------------------------------------------------------------------------\u001B[39m",
      "\u001B[31mKeyError\u001B[39m                                  Traceback (most recent call last)",
      "\u001B[36mFile \u001B[39m\u001B[32mE:\\sabbirhasaann\\ml-lab\\.venv\\Lib\\site-packages\\pandas\\core\\indexes\\base.py:3812\u001B[39m, in \u001B[36mIndex.get_loc\u001B[39m\u001B[34m(self, key)\u001B[39m\n\u001B[32m   3811\u001B[39m \u001B[38;5;28;01mtry\u001B[39;00m:\n\u001B[32m-> \u001B[39m\u001B[32m3812\u001B[39m     \u001B[38;5;28;01mreturn\u001B[39;00m \u001B[38;5;28;43mself\u001B[39;49m\u001B[43m.\u001B[49m\u001B[43m_engine\u001B[49m\u001B[43m.\u001B[49m\u001B[43mget_loc\u001B[49m\u001B[43m(\u001B[49m\u001B[43mcasted_key\u001B[49m\u001B[43m)\u001B[49m\n\u001B[32m   3813\u001B[39m \u001B[38;5;28;01mexcept\u001B[39;00m \u001B[38;5;167;01mKeyError\u001B[39;00m \u001B[38;5;28;01mas\u001B[39;00m err:\n",
      "\u001B[36mFile \u001B[39m\u001B[32mpandas/_libs/index.pyx:167\u001B[39m, in \u001B[36mpandas._libs.index.IndexEngine.get_loc\u001B[39m\u001B[34m()\u001B[39m\n",
      "\u001B[36mFile \u001B[39m\u001B[32mpandas/_libs/index.pyx:196\u001B[39m, in \u001B[36mpandas._libs.index.IndexEngine.get_loc\u001B[39m\u001B[34m()\u001B[39m\n",
      "\u001B[36mFile \u001B[39m\u001B[32mpandas/_libs/hashtable_class_helper.pxi:7088\u001B[39m, in \u001B[36mpandas._libs.hashtable.PyObjectHashTable.get_item\u001B[39m\u001B[34m()\u001B[39m\n",
      "\u001B[36mFile \u001B[39m\u001B[32mpandas/_libs/hashtable_class_helper.pxi:7096\u001B[39m, in \u001B[36mpandas._libs.hashtable.PyObjectHashTable.get_item\u001B[39m\u001B[34m()\u001B[39m\n",
      "\u001B[31mKeyError\u001B[39m: 'sepal_length'",
      "\nThe above exception was the direct cause of the following exception:\n",
      "\u001B[31mKeyError\u001B[39m                                  Traceback (most recent call last)",
      "\u001B[36mCell\u001B[39m\u001B[36m \u001B[39m\u001B[32mIn[7]\u001B[39m\u001B[32m, line 3\u001B[39m\n\u001B[32m      1\u001B[39m \u001B[38;5;66;03m# 2. Distribution plot of one feature\u001B[39;00m\n\u001B[32m      2\u001B[39m plt.figure(figsize=(\u001B[32m8\u001B[39m, \u001B[32m5\u001B[39m))\n\u001B[32m----> \u001B[39m\u001B[32m3\u001B[39m sns.histplot(\u001B[43mdf\u001B[49m\u001B[43m[\u001B[49m\u001B[33;43m'\u001B[39;49m\u001B[33;43msepal_length\u001B[39;49m\u001B[33;43m'\u001B[39;49m\u001B[43m]\u001B[49m, kde=\u001B[38;5;28;01mTrue\u001B[39;00m, color=\u001B[33m'\u001B[39m\u001B[33mskyblue\u001B[39m\u001B[33m'\u001B[39m, bins=\u001B[32m15\u001B[39m)\n\u001B[32m      4\u001B[39m plt.title(\u001B[33m\"\u001B[39m\u001B[33mDistribution of Sepal Length\u001B[39m\u001B[33m\"\u001B[39m, fontsize=\u001B[32m14\u001B[39m)\n\u001B[32m      5\u001B[39m plt.xlabel(\u001B[33m\"\u001B[39m\u001B[33mSepal Length (cm)\u001B[39m\u001B[33m\"\u001B[39m)\n",
      "\u001B[36mFile \u001B[39m\u001B[32mE:\\sabbirhasaann\\ml-lab\\.venv\\Lib\\site-packages\\pandas\\core\\frame.py:4113\u001B[39m, in \u001B[36mDataFrame.__getitem__\u001B[39m\u001B[34m(self, key)\u001B[39m\n\u001B[32m   4111\u001B[39m \u001B[38;5;28;01mif\u001B[39;00m \u001B[38;5;28mself\u001B[39m.columns.nlevels > \u001B[32m1\u001B[39m:\n\u001B[32m   4112\u001B[39m     \u001B[38;5;28;01mreturn\u001B[39;00m \u001B[38;5;28mself\u001B[39m._getitem_multilevel(key)\n\u001B[32m-> \u001B[39m\u001B[32m4113\u001B[39m indexer = \u001B[38;5;28;43mself\u001B[39;49m\u001B[43m.\u001B[49m\u001B[43mcolumns\u001B[49m\u001B[43m.\u001B[49m\u001B[43mget_loc\u001B[49m\u001B[43m(\u001B[49m\u001B[43mkey\u001B[49m\u001B[43m)\u001B[49m\n\u001B[32m   4114\u001B[39m \u001B[38;5;28;01mif\u001B[39;00m is_integer(indexer):\n\u001B[32m   4115\u001B[39m     indexer = [indexer]\n",
      "\u001B[36mFile \u001B[39m\u001B[32mE:\\sabbirhasaann\\ml-lab\\.venv\\Lib\\site-packages\\pandas\\core\\indexes\\base.py:3819\u001B[39m, in \u001B[36mIndex.get_loc\u001B[39m\u001B[34m(self, key)\u001B[39m\n\u001B[32m   3814\u001B[39m     \u001B[38;5;28;01mif\u001B[39;00m \u001B[38;5;28misinstance\u001B[39m(casted_key, \u001B[38;5;28mslice\u001B[39m) \u001B[38;5;129;01mor\u001B[39;00m (\n\u001B[32m   3815\u001B[39m         \u001B[38;5;28misinstance\u001B[39m(casted_key, abc.Iterable)\n\u001B[32m   3816\u001B[39m         \u001B[38;5;129;01mand\u001B[39;00m \u001B[38;5;28many\u001B[39m(\u001B[38;5;28misinstance\u001B[39m(x, \u001B[38;5;28mslice\u001B[39m) \u001B[38;5;28;01mfor\u001B[39;00m x \u001B[38;5;129;01min\u001B[39;00m casted_key)\n\u001B[32m   3817\u001B[39m     ):\n\u001B[32m   3818\u001B[39m         \u001B[38;5;28;01mraise\u001B[39;00m InvalidIndexError(key)\n\u001B[32m-> \u001B[39m\u001B[32m3819\u001B[39m     \u001B[38;5;28;01mraise\u001B[39;00m \u001B[38;5;167;01mKeyError\u001B[39;00m(key) \u001B[38;5;28;01mfrom\u001B[39;00m\u001B[38;5;250m \u001B[39m\u001B[34;01merr\u001B[39;00m\n\u001B[32m   3820\u001B[39m \u001B[38;5;28;01mexcept\u001B[39;00m \u001B[38;5;167;01mTypeError\u001B[39;00m:\n\u001B[32m   3821\u001B[39m     \u001B[38;5;66;03m# If we have a listlike key, _check_indexing_error will raise\u001B[39;00m\n\u001B[32m   3822\u001B[39m     \u001B[38;5;66;03m#  InvalidIndexError. Otherwise we fall through and re-raise\u001B[39;00m\n\u001B[32m   3823\u001B[39m     \u001B[38;5;66;03m#  the TypeError.\u001B[39;00m\n\u001B[32m   3824\u001B[39m     \u001B[38;5;28mself\u001B[39m._check_indexing_error(key)\n",
      "\u001B[31mKeyError\u001B[39m: 'sepal_length'"
     ]
    },
    {
     "data": {
      "text/plain": [
       "<Figure size 800x500 with 0 Axes>"
      ]
     },
     "metadata": {},
     "output_type": "display_data"
    }
   ],
   "execution_count": 7
  },
  {
   "metadata": {},
   "cell_type": "markdown",
   "source": "#### Box Plot",
   "id": "1f2d6da514e4f5e5"
  },
  {
   "metadata": {},
   "cell_type": "code",
   "outputs": [],
   "execution_count": null,
   "source": [
    "# 3. Boxplot for outlier detection and species comparison\n",
    "plt.figure(figsize=(8, 6))\n",
    "sns.boxplot(x='species', y='sepal_width', data=df, palette='Set2')\n",
    "plt.title(\"Boxplot of Sepal Width by Species\", fontsize=14)\n",
    "plt.xlabel(\"Species\")\n",
    "plt.ylabel(\"Sepal Width (cm)\")\n",
    "plt.show()"
   ],
   "id": "2b8383eef620e1a5"
  },
  {
   "metadata": {},
   "cell_type": "markdown",
   "source": "#### Pair Plot",
   "id": "dadf01beb55c99e1"
  },
  {
   "metadata": {},
   "cell_type": "code",
   "outputs": [],
   "execution_count": null,
   "source": [
    "# 4. Pairplot to visualize relationships between features\n",
    "sns.pairplot(df, hue='species', palette='husl', markers=[\"o\", \"s\", \"D\"])\n",
    "plt.suptitle(\"Pairplot of Iris Dataset - Pairwise Relationships\", y=1.02, fontsize=16)\n",
    "plt.show()"
   ],
   "id": "b3267da82e36248d"
  },
  {
   "metadata": {},
   "cell_type": "markdown",
   "source": "#### Correlatin Heatmap",
   "id": "80f13f664cd8a3c1"
  },
  {
   "metadata": {},
   "cell_type": "code",
   "outputs": [],
   "execution_count": null,
   "source": [
    "# 5. Correlation Heatmap\n",
    "# Calculate the correlation matrix\n",
    "corr = df.corr(numeric_only=True)\n",
    "\n",
    "plt.figure(figsize=(7, 6))\n",
    "# Create the heatmap\n",
    "sns.heatmap(corr, annot=True, cmap='coolwarm', fmt='.2f', linewidths=0.5, linecolor='black')\n",
    "plt.title(\"Correlation Heatmap of Iris Features\", fontsize=14)\n",
    "plt.show()"
   ],
   "id": "9cf44aaae32df1ef"
  }
 ],
 "metadata": {
  "kernelspec": {
   "display_name": "Python 3",
   "language": "python",
   "name": "python3"
  },
  "language_info": {
   "codemirror_mode": {
    "name": "ipython",
    "version": 2
   },
   "file_extension": ".py",
   "mimetype": "text/x-python",
   "name": "python",
   "nbconvert_exporter": "python",
   "pygments_lexer": "ipython2",
   "version": "2.7.6"
  }
 },
 "nbformat": 4,
 "nbformat_minor": 5
}
