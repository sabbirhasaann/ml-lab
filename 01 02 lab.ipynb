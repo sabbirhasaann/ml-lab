

# --- UNCHANGED: Summary Statistics Charts ---
# These plots remain the same as they summarize the entire dataset.
age_stats_labels = ['Mean', 'Median', 'Standard Deviation']
age_stats_values = [age_mean, age_median, age_std]
plt.figure(num='Age Statistics Chart', figsize=(8, 5))
plt.bar(age_stats_labels, age_stats_values, color=['#ff9999','#66b3ff','#99ff99'])
plt.title("Summary Statistics for All Student Ages")
for i, value in enumerate(age_stats_values):
    plt.text(i, value + 0.05, f"{value:.2f}", ha='center')
plt.tight_layout()

marks_stats_labels = ['Mean', 'Median', 'Standard Deviation']
marks_stats_values = [marks_mean, marks_median, marks_std]
plt.figure(num='Marks Statistics Chart', figsize=(8, 5))
plt.bar(marks_stats_labels, marks_stats_values, color=['#ffcc99','#c2c2f0','#ffb3e6'])
plt.title("Summary Statistics for All Student Marks")
for i, value in enumerate(marks_stats_values):
    plt.text(i, value + 0.5, f"{value:.2f}", ha='center')
plt.tight_layout()


# Show all figures
plt.show()

print("\nAnalysis complete. The first two charts now show a random sample of 30 students.")
