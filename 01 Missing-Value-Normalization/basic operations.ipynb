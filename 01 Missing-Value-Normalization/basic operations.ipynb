{
 "cells": [
  {
   "metadata": {},
   "cell_type": "markdown",
   "source": "#### Import The Libraries",
   "id": "f72e8c91d66a38b4"
  },
  {
   "metadata": {},
   "cell_type": "code",
   "source": [
    "import numpy as np\n",
    "import pandas as pd\n",
    "import matplotlib.pyplot as plt\n",
    "from sklearn.preprocessing import MinMaxScaler"
   ],
   "id": "fbb7b1c845ca6cab",
   "outputs": [],
   "execution_count": null
  },
  {
   "metadata": {},
   "cell_type": "markdown",
   "source": "#### Importing the datasets",
   "id": "9036370f04acadd9"
  },
  {
   "metadata": {},
   "cell_type": "code",
   "source": [
    "dataset = pd.read_excel('data.xlsx')\n",
    "X = dataset.iloc[:, :-1].values\n",
    "Y = dataset.iloc[:, -1].values"
   ],
   "id": "f4f5cb4bba84bf5f",
   "outputs": [],
   "execution_count": null
  },
  {
   "metadata": {},
   "cell_type": "code",
   "source": "print(X)",
   "id": "a5f2bb9b50af4196",
   "outputs": [],
   "execution_count": null
  },
  {
   "metadata": {},
   "cell_type": "code",
   "source": "print(Y)",
   "id": "c7de6d9fee4e783c",
   "outputs": [],
   "execution_count": null
  },
  {
   "metadata": {},
   "cell_type": "markdown",
   "source": "#### Handling Missing Values",
   "id": "f5cc42e1e2121641"
  },
  {
   "metadata": {},
   "cell_type": "code",
   "source": [
    "# Convert to pandas to handle missing values\n",
    "X_df = pd.DataFrame(X)\n",
    "Y_df = pd.Series(Y)\n",
    "\n",
    "# Fill missing values with mean\n",
    "X_filled = X_df.fillna(X_df.mean())\n",
    "Y_filled = Y_df.fillna(Y_df.mean())\n",
    "\n",
    "# Convert back to numpy arrays\n",
    "X = X_filled.values\n",
    "Y = Y_filled.values"
   ],
   "id": "9ef370ff807adcd7",
   "outputs": [],
   "execution_count": null
  },
  {
   "metadata": {},
   "cell_type": "markdown",
   "source": "#### Combine Dataframes to New Excel File",
   "id": "f70c61b36e7d4b5"
  },
  {
   "metadata": {},
   "cell_type": "code",
   "source": [
    "# Combine X and Y into one DataFrame\n",
    "output_df = pd.DataFrame(X)\n",
    "output_df['Target'] = Y  # Add Y as the last column, assuming it's the target\n",
    "\n",
    "# Save to Excel\n",
    "output_df.to_excel('handled_missing_data.xlsx', index=False)\n"
   ],
   "id": "960a0f0098aa08df",
   "outputs": [],
   "execution_count": null
  },
  {
   "metadata": {},
   "cell_type": "markdown",
   "source": "#### Normalize Fields",
   "id": "9464dca550cf656e"
  },
  {
   "metadata": {},
   "cell_type": "code",
   "source": [
    "# Normalize using MinMaxScaler\n",
    "scaler_X = MinMaxScaler()\n",
    "scaler_Y = MinMaxScaler()\n",
    "\n",
    "X_normalized = scaler_X.fit_transform(X)\n",
    "Y_normalized = scaler_Y.fit_transform(Y)\n",
    "\n",
    "# Combine and save\n",
    "normalized_df = pd.DataFrame(X_normalized, columns=X_filled.columns)\n",
    "normalized_df['Target'] = Y_normalized\n",
    "\n",
    "# Save to Excel\n",
    "normalized_df.to_excel('normalized_data.xlsx', index=False)"
   ],
   "id": "77d8fb96255cb965",
   "outputs": [],
   "execution_count": null
  },
  {
   "metadata": {},
   "cell_type": "markdown",
   "source": "#### Encoding Categorical Variable",
   "id": "d5911ef7cc5f416b"
  },
  {
   "metadata": {},
   "cell_type": "code",
   "outputs": [],
   "execution_count": null,
   "source": "",
   "id": "c78f3dc1c50b01e7"
  }
 ],
 "metadata": {
  "kernelspec": {
   "display_name": "Python 3",
   "language": "python",
   "name": "python3"
  },
  "language_info": {
   "codemirror_mode": {
    "name": "ipython",
    "version": 2
   },
   "file_extension": ".py",
   "mimetype": "text/x-python",
   "name": "python",
   "nbconvert_exporter": "python",
   "pygments_lexer": "ipython2",
   "version": "2.7.6"
  }
 },
 "nbformat": 4,
 "nbformat_minor": 5
}
