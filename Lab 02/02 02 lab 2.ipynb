# REVISED LOGIC: Second, from this clean, filtered group, take a random sample.
print(f"Taking a random sample of up to {NUM_SAMPLES_FOR_PLOT} students for the plots...")
if len(df_plot_base) >= NUM_SAMPLES_FOR_PLOT:
    plot_sample = df_plot_base.sample(n=NUM_SAMPLES_FOR_PLOT, random_state=42)
else:
    print(f"Warning: Fewer than {NUM_SAMPLES_FOR_PLOT} complete rows available. Using all {len(df_plot_base)} rows.")
    plot_sample = df_plot_base
print(f"-> Sample created with {len(plot_sample)} students.")


# --- Age Normalization Plot ---
plt.style.use('seaborn-v0_8-whitegrid')
fig1, ax1 = plt.subplots(figsize=(18, 9))
x = np.arange(len(plot_sample['Name']))  # the label locations
width = 0.35  # the width of the bars

rects1 = ax1.bar(x - width/2, plot_sample['Age_Normalized_Imputed'], width, label='Imputed First, then Normalized', color='green')
rects2 = ax1.bar(x + width/2, plot_sample['Age_Normalized_Dropped'], width, label='Dropped First, then Normalized', color='red')

# Add some text for labels, title and axes ticks
ax1.set_ylabel('Normalized Value')
ax1.set_title('Comparison of Normalized Age (Imputed vs. Dropped Strategies)')
ax1.set_xticks(x)
ax1.set_xticklabels(plot_sample['Name'], rotation=90)
ax1.legend()
ax1.set_ylim(0, 1.1) # Set y-axis limit
fig1.tight_layout()

# --- Marks Normalization Plot ---
fig2, ax2 = plt.subplots(figsize=(18, 9))
rects3 = ax2.bar(x - width/2, plot_sample['Marks_Normalized_Imputed'], width, label='Imputed First, then Normalized', color='green')
rects4 = ax2.bar(x + width/2, plot_sample['Marks_Normalized_Dropped'], width, label='Dropped First, then Normalized', color='red')

# Add some text for labels, title and axes ticks
ax2.set_ylabel('Normalized Value')
ax2.set_title('Comparison of Normalized Marks (Imputed vs. Dropped Strategies)')
ax2.set_xticks(x)
ax2.set_xticklabels(plot_sample['Name'], rotation=90)
ax2.legend()
ax2.set_ylim(0, 1.1) # Set y-axis limit
fig2.tight_layout()

print("\n--- Workflow Complete ---")
print("Check your folder for the three generated Excel files.")
print("Displaying comparison plots now.")
plt.show()
